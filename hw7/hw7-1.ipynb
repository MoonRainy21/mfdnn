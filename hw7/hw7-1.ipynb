{
 "cells": [
  {
   "cell_type": "markdown",
   "metadata": {},
   "source": [
    "# Problem1"
   ]
  },
  {
   "cell_type": "markdown",
   "metadata": {},
   "source": [
    "## (a)\n",
    "\n",
    "$\n",
    "\\nu_\\beta(x) = \\log [(\\sum _{i=1}^{n} \\exp(\\beta_i x_i)) ^ \\frac{1}{\\beta}] \\\\\n",
    "\\lim_{\\beta \\to \\infty} \\nu_\\beta(x) = \\lim_{\\beta \\to \\infty} \\frac {\\log[(\\sum _{i=1}^{n} \\exp(\\beta x_i))]} {\\beta} \\\\\n",
    "$\n",
    "By L'Hopital's rule, we have \\\n",
    "$\n",
    "\\lim_{\\beta \\to \\infty} \\nu_\\beta(x) = \\lim_{\\beta \\to \\infty} \\frac {\\sum _{i=1}^{n} x_i \\exp(\\beta x_i)} {\\sum _{i=1}^{n} \\exp(\\beta x_i)} \\\\\n",
    "= \\lim_{\\beta \\to \\infty} \\frac {\\sum _{i=1}^{n} x_i \\exp(\\beta x_i - \\max_j x_j)} {\\sum _{i=1}^{n} \\exp(\\beta x_i - \\max_j x_j)} \\\\\n",
    "= \\lim_{\\beta \\to \\infty} \\frac {\\sum _{i=1}^{n} x_i 1_{x_i = \\max_j x_j}} {\\sum _{i=1}^{n} 1_{x_i = \\max_j x_j}} \\\\\n",
    "= \\max x_i\n",
    "$"
   ]
  },
  {
   "cell_type": "markdown",
   "metadata": {},
   "source": [
    "## (b)\n",
    "$\n",
    "\\frac \\partial {\\partial x_j} \\nu_1(x) = \\frac \\partial {\\partial x_j} \\log(\\sum _{i=1}^{n} \\exp(x_i)) \\\\\n",
    "= \\frac {\\exp(x_j)} {\\sum _{i=1}^{n} \\exp(x_i)} \\\\\n",
    "= \\mu(x)_j\n",
    "$\n",
    "\n",
    "$\n",
    "\\nabla \\nu_1(x) \n",
    "= \\mu(x) \\\\\n",
    "$"
   ]
  },
  {
   "cell_type": "markdown",
   "metadata": {},
   "source": [
    "## (c)\n",
    "$\n",
    "(\\nabla \\nu_\\beta(x))_j = \\frac {\\exp(\\beta x_j)} {\\sum _{i=1}^{n} \\exp(\\beta x_i)} \\\\\n",
    "$\n",
    "\n",
    "$\n",
    "\\lim_{\\beta \\to \\infty} (\\nabla \\nu_\\beta(x))_j = \\lim_{\\beta \\to \\infty} \\frac {\\exp(\\beta x_j)} {\\sum _{i=1}^{n} \\exp(\\beta x_i)} \\\\\n",
    "=\\lim_{\\beta \\to \\infty} \\frac {\\exp(\\beta (x_j - x_{i_{max}}))} {\\sum _{i=1}^{n} \\exp(\\beta (x_i - x_{i_{max}}))} \\\\\n",
    "= \\delta_{j, i_{max}} \\\\\n",
    "= e_{i_{max}} \\\\\n",
    "$"
   ]
  }
 ],
 "metadata": {
  "language_info": {
   "name": "python"
  }
 },
 "nbformat": 4,
 "nbformat_minor": 2
}
