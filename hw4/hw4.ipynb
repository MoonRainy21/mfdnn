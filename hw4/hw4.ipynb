{
 "cells": [
  {
   "cell_type": "markdown",
   "metadata": {},
   "source": [
    "# Problem 1"
   ]
  },
  {
   "cell_type": "markdown",
   "metadata": {},
   "source": [
    "![](https://media.discordapp.net/attachments/947918193924636695/1224206416567468113/Screenshot_20240401_125714.jpg?ex=661ca612&is=660a3112&hm=3c25abb46718571c67011264bb153ddfb2c6480b58012d0bba8d0e6b7977fcb3&=&format=webp&width=1358&height=1118)"
   ]
  },
  {
   "cell_type": "markdown",
   "metadata": {},
   "source": [
    "# Problem 2"
   ]
  },
  {
   "cell_type": "markdown",
   "metadata": {},
   "source": [
    "![](https://cdn.discordapp.com/attachments/947918193924636695/1224206416818995261/Screenshot_20240401_125730.jpg?ex=661ca612&is=660a3112&hm=1c70cffaa7c38622503082ded6cfd0ffaf2e4eacc7df5d8ae4a63d75bdf1f015&)"
   ]
  },
  {
   "cell_type": "markdown",
   "metadata": {},
   "source": [
    "# Problem 3"
   ]
  },
  {
   "cell_type": "markdown",
   "metadata": {},
   "source": [
    "![](https://cdn.discordapp.com/attachments/947918193924636695/1224206417041297462/Screenshot_20240401_125751.jpg?ex=661ca612&is=660a3112&hm=37e9c0de082af5895058af6d4ddf92c6bd47fbc574cca932a91a61cfefc842b5&)"
   ]
  },
  {
   "cell_type": "markdown",
   "metadata": {},
   "source": [
    "# Problem 4"
   ]
  },
  {
   "cell_type": "markdown",
   "metadata": {},
   "source": [
    "![](https://cdn.discordapp.com/attachments/947918193924636695/1224206417334894645/Screenshot_20240401_125810.jpg?ex=661ca612&is=660a3112&hm=03d91face1a87ad1baecb61059e5dc3916edb67a85668ff660fc71d857eee8ad&)"
   ]
  },
  {
   "cell_type": "markdown",
   "metadata": {},
   "source": [
    "# Problem 5"
   ]
  },
  {
   "cell_type": "code",
   "execution_count": 2,
   "metadata": {},
   "outputs": [],
   "source": [
    "import torch.nn as nn\n",
    "import torch\n",
    "import torch.nn.functional as F\n",
    "import matplotlib.pyplot as plt\n",
    "import torchvision.datasets.mnist as mnist\n",
    "from IPython.display import clear_output"
   ]
  },
  {
   "cell_type": "code",
   "execution_count": 3,
   "metadata": {},
   "outputs": [],
   "source": [
    "def sigmoid(x):\n",
    "    return 1/(1+torch.exp(-x))\n",
    "\n",
    "class Model(nn.Module):\n",
    "  def __init__(self):\n",
    "    super().__init__()\n",
    "    self.linear = nn.Linear(28*28, 1, bias=True)\n",
    "  def forward(self, x):\n",
    "    x = x.view(-1, 28*28)\n",
    "    x = self.linear(x)\n",
    "    x = torch.cat([sigmoid(-x), sigmoid(x)], dim=-1)\n",
    "    return x"
   ]
  },
  {
   "cell_type": "code",
   "execution_count": 4,
   "metadata": {},
   "outputs": [],
   "source": [
    "dataset = mnist.MNIST('./data', download=True)\n",
    "data = dataset.data/255\n",
    "label = dataset.targets\n",
    "mask = (label == 4) | (label == 9)\n",
    "data = data[mask]\n",
    "label = label[mask]\n",
    "y_true = torch.zeros((len(label), 2), dtype=torch.float32)\n",
    "y_true[:, 0] = (label == 4)\n",
    "y_true[:, 1] = (label == 9)\n",
    "\n",
    "X_train = data[:1000].float()\n",
    "y_train = y_true[:1000]\n",
    "X_test = data[1000:].float()\n",
    "y_test = y_true[1000:]"
   ]
  },
  {
   "cell_type": "code",
   "execution_count": 11,
   "metadata": {},
   "outputs": [],
   "source": [
    "def KL_divergence(y_true, y_pred):\n",
    "  return -torch.sum(\n",
    "    y_true * torch.log(y_pred)\n",
    "  )\n",
    "\n",
    "def MSE(y_true, y_pred):\n",
    "  diff = y_true - y_pred\n",
    "  return torch.mean(\n",
    "    diff * diff\n",
    "  )"
   ]
  },
  {
   "cell_type": "code",
   "execution_count": 6,
   "metadata": {},
   "outputs": [
    {
     "data": {
      "text/plain": [
       "tensor([[0.5792, 0.4208]], grad_fn=<CatBackward0>)"
      ]
     },
     "execution_count": 6,
     "metadata": {},
     "output_type": "execute_result"
    }
   ],
   "source": [
    "model = Model()\n",
    "model(data[0].float().unsqueeze(0))"
   ]
  },
  {
   "cell_type": "code",
   "execution_count": 17,
   "metadata": {},
   "outputs": [
    {
     "data": {
      "image/png": "[encoded data removed]",
      "text/plain": [
       "<Figure size 640x480 with 1 Axes>"
      ]
     },
     "metadata": {},
     "output_type": "display_data"
    },
    {
     "name": "stdout",
     "output_type": "stream",
     "text": [
      "epoch 9990 KL: 1.1266645193099976 MSE: 0.01183449849486351\n",
      "accuracy KL: 0.9563525159855435 MSE: 0.9556111574460199\n"
     ]
    },
    {
     "data": {
      "image/png": "[encoded data removed]",
      "text/plain": [
       "<Figure size 640x480 with 1 Axes>"
      ]
     },
     "metadata": {},
     "output_type": "display_data"
    }
   ],
   "source": [
    "BATCH_SIZE = 32\n",
    "model_KL = Model()\n",
    "model_MSE = Model()\n",
    "\n",
    "model_KL.linear.weight.data = torch.normal(0, 1e-6, size=model_KL.linear.weight.data.shape)\n",
    "model_KL.linear.bias.data = torch.normal(0, 1e-6, size=model_KL.linear.bias.data.shape)\n",
    "\n",
    "model_MSE.linear.weight.data = torch.normal(0, 1e-6, size=model_MSE.linear.weight.data.shape)\n",
    "model_MSE.linear.bias.data = torch.normal(0, 1e-6, size=model_MSE.linear.bias.data.shape)\n",
    "\n",
    "optimizer_KL = torch.optim.SGD(model_KL.parameters(), lr=1e-3/BATCH_SIZE)\n",
    "optimizer_MSE = torch.optim.SGD(model_MSE.parameters(), lr=1e-3)\n",
    "\n",
    "kl_log = []\n",
    "mse_log = []\n",
    "\n",
    "for epoch in range(10000):\n",
    "  for i in range(BATCH_SIZE, len(y_train), BATCH_SIZE):\n",
    "    y_pred_KL = model_KL(X_train[i-BATCH_SIZE:i].float())\n",
    "    y_pred_MSE = model_MSE(X_train[i-BATCH_SIZE:i].float())\n",
    "\n",
    "    loss_KL = KL_divergence(y_train[i-BATCH_SIZE:i], y_pred_KL)\n",
    "    loss_MSE = MSE(y_train[i-BATCH_SIZE:i], y_pred_MSE)\n",
    "\n",
    "    optimizer_KL.zero_grad()\n",
    "    optimizer_MSE.zero_grad()\n",
    "\n",
    "    loss_KL.backward()\n",
    "    loss_MSE.backward()\n",
    "\n",
    "    optimizer_KL.step()\n",
    "    optimizer_MSE.step()\n",
    "  \n",
    "  y_pred_KL = model_KL(X_test.float())\n",
    "  y_pred_MSE = model_MSE(X_test.float())\n",
    "\n",
    "  kl_log.append(torch.sum(torch.argmax(y_pred_KL, dim=1) == torch.argmax(y_test, dim=1)).item()/len(y_test))\n",
    "  mse_log.append(torch.sum(torch.argmax(y_pred_MSE, dim=1) == torch.argmax(y_test, dim=1)).item()/len(y_test))\n",
    "  if epoch % 10 == 0:\n",
    "    clear_output(wait=True)\n",
    "    plt.plot(kl_log, label='KL')\n",
    "    plt.plot(mse_log, label='MSE')\n",
    "    plt.legend()\n",
    "    plt.show()\n",
    "    plt.ylim(0,1)\n",
    "    print(f'epoch {epoch} KL: {loss_KL.item()} MSE: {loss_MSE.item()}')\n",
    "    print(f'accuracy KL: {kl_log[-1]} MSE: {mse_log[-1]}')\n",
    "\n"
   ]
  },
  {
   "cell_type": "code",
   "execution_count": 9,
   "metadata": {},
   "outputs": [
    {
     "name": "stdout",
     "output_type": "stream",
     "text": [
      "Elapsed Time:  6.323716878890991\n"
     ]
    }
   ],
   "source": [
    "import time\n",
    "\n",
    "\n",
    "BATCH_SIZE = 32\n",
    "model_KL = Model()\n",
    "\n",
    "model_KL.linear.weight.data = torch.normal(0, 1e-6, size=model_KL.linear.weight.data.shape)\n",
    "model_KL.linear.bias.data = torch.normal(0, 1e-6, size=model_KL.linear.bias.data.shape)\n",
    "\n",
    "optimizer_KL = torch.optim.SGD(model_KL.parameters(), lr=1e-3/BATCH_SIZE)\n",
    "\n",
    "kl_log = []\n",
    "\n",
    "\n",
    "start = time.time()\n",
    "for epoch in range(1000):\n",
    "  for i in range(BATCH_SIZE, len(y_train), BATCH_SIZE):\n",
    "    y_pred_KL = model_KL(X_train[i-BATCH_SIZE:i].float())\n",
    "\n",
    "    loss_KL = KL_divergence(y_train[i-BATCH_SIZE:i], y_pred_KL)\n",
    "\n",
    "    optimizer_KL.zero_grad()\n",
    "\n",
    "    loss_KL.backward()\n",
    "\n",
    "    optimizer_KL.step()\n",
    "  \n",
    "  y_pred_KL = model_KL(X_test.float())\n",
    "  kl_log.append(torch.sum(torch.argmax(y_pred_KL, dim=1) == torch.argmax(y_test, dim=1)).item()/len(y_test))\n",
    "end = time.time()\n",
    "print(\"Elapsed Time: \", end-start)\n"
   ]
  },
  {
   "cell_type": "code",
   "execution_count": 13,
   "metadata": {},
   "outputs": [
    {
     "name": "stdout",
     "output_type": "stream",
     "text": [
      "Elapsed Time: 6.276560068130493\n"
     ]
    }
   ],
   "source": [
    "BATCH_SIZE = 32\n",
    "model_MSE = Model()\n",
    "\n",
    "model_MSE.linear.weight.data = torch.normal(0, 1e-6, size=model_MSE.linear.weight.data.shape)\n",
    "model_MSE.linear.bias.data = torch.normal(0, 1e-6, size=model_MSE.linear.bias.data.shape)\n",
    "\n",
    "optimizer_MSE = torch.optim.SGD(model_MSE.parameters(), lr=1e-3)\n",
    "\n",
    "MSE = torch.\n",
    "\n",
    "mse_log = []\n",
    "start = time.time()\n",
    "for epoch in range(1000):\n",
    "  for i in range(BATCH_SIZE, len(y_train), BATCH_SIZE):\n",
    "    y_pred_MSE = model_MSE(X_train[i-BATCH_SIZE:i].float())\n",
    "\n",
    "    loss_MSE = MSE(y_train[i-BATCH_SIZE:i], y_pred_MSE)\n",
    "\n",
    "    optimizer_MSE.zero_grad()\n",
    "\n",
    "    loss_MSE.backward()\n",
    "\n",
    "    optimizer_MSE.step()\n",
    "  \n",
    "  y_pred_MSE = model_MSE(X_test.float())\n",
    "\n",
    "  mse_log.append(torch.sum(torch.argmax(y_pred_MSE, dim=1) == torch.argmax(y_test, dim=1)).item()/len(y_test))\n",
    "end = time.time()\n",
    "print(\"Elapsed Time:\", end-start)"
   ]
  },
  {
   "cell_type": "markdown",
   "metadata": {},
   "source": [
    "두 Loss 모두 잘 동작하여 정확도가 95% 이상이며, 동작하는 시간도 거의 일치한다고 볼 수 있다. 그렇기에 두 Loss의 성능 차이가 없으며 둘중 어느 것을 사용해도 무관하다고 볼 수 있다."
   ]
  },
  {
   "cell_type": "markdown",
   "metadata": {},
   "source": [
    "# Problem 6"
   ]
  },
  {
   "cell_type": "markdown",
   "metadata": {},
   "source": [
    "![](https://cdn.discordapp.com/attachments/947918193924636695/1224206417599140001/Screenshot_20240401_125838.jpg?ex=661ca612&is=660a3112&hm=fe516b7ac6463a0285a8ae866b28b3162c4e5ab51e7780c0b22059ece8671bc8&)"
   ]
  },
  {
   "cell_type": "markdown",
   "metadata": {},
   "source": [
    "![](https://cdn.discordapp.com/attachments/947918193924636695/1224206417892868167/Screenshot_20240401_125850.jpg?ex=661ca612&is=660a3112&hm=4fc28a18dbd1087c6add873e595c77fe399be1289d8efa715c29627b8836b39a&)"
   ]
  },
  {
   "cell_type": "markdown",
   "metadata": {},
   "source": [
    "# Problem 7"
   ]
  },
  {
   "cell_type": "code",
   "execution_count": 14,
   "metadata": {},
   "outputs": [],
   "source": [
    "import torch\n",
    "import torch.nn as nn\n",
    "from torch.optim import Optimizer\n",
    "from torch.utils.data import DataLoader\n",
    "from torchvision import datasets\n",
    "from torchvision.transforms import transforms\n",
    "\n",
    "device = torch.device(\"cuda\" if torch.cuda.is_available() else \"cpu\")\n",
    "device = torch.device('mps' if torch.backends.mps.is_available() else \"cpu\")\n",
    "# MNIST dataset\n",
    "train_dataset = datasets.MNIST(root='./data/',\n",
    "                               train=True, \n",
    "                               transform=transforms.ToTensor(),\n",
    "                               download=True)\n",
    "\n",
    "test_dataset = datasets.MNIST(root='./data/',\n",
    "                              train=False, \n",
    "                              transform=transforms.ToTensor())"
   ]
  },
  {
   "cell_type": "code",
   "execution_count": 19,
   "metadata": {},
   "outputs": [],
   "source": [
    "# Modern LeNet uses this layer for C3\n",
    "class C3_layer_full(nn.Module):\n",
    "    def __init__(self):\n",
    "        super(C3_layer_full, self).__init__()\n",
    "        self.conv_layer = nn.Conv2d(6, 16, kernel_size=5)\n",
    "\n",
    "    def forward(self, x):\n",
    "        return self.conv_layer(x)\n",
    "\n",
    "# Original LeNet uses this layer for C3\n",
    "class C3_layer(nn.Module):\n",
    "    def __init__(self):\n",
    "        super(C3_layer, self).__init__()\n",
    "        self.ch_in_3 = [[0, 1, 2],\n",
    "                        [1, 2, 3],\n",
    "                        [2, 3, 4],\n",
    "                        [3, 4, 5],\n",
    "                        [0, 4, 5],\n",
    "                        [0, 1, 5]] # filter with 3 subset of input channels\n",
    "        self.ch_in_4 = [[0, 1, 2, 3],\n",
    "                        [1, 2, 3, 4],\n",
    "                        [2, 3, 4, 5],\n",
    "                        [0, 3, 4, 5],\n",
    "                        [0, 1, 4, 5],\n",
    "                        [0, 1, 2, 5],\n",
    "                        [0, 1, 3, 4],\n",
    "                        [1, 2, 4, 5],\n",
    "                        [0, 2, 3, 5]] # filter with 4 subset of input channels\n",
    "        # put implementation here\n",
    "        self.ch_in_6 = [[0, 1, 2, 3, 4, 5]]\n",
    "        self.Conv_channel_3 = nn.ModuleList([\n",
    "            nn.Conv2d(3, 1, kernel_size=5)\n",
    "            for _ in range(6)\n",
    "        ])\n",
    "        self.Conv_channel_4 = nn.ModuleList([\n",
    "            nn.Conv2d(4, 1, kernel_size=5)\n",
    "            for _ in range(9)\n",
    "        ])\n",
    "        self.Conv_channel_6 = nn.ModuleList([\n",
    "            nn.Conv2d(6, 1, kernel_size=5)\n",
    "        ])\n",
    "    def forward(self, x):\n",
    "        # put implementation here\n",
    "        return torch.cat([\n",
    "            Conv(x[:, channel, :, :])\n",
    "            for Conv, channel in zip(\n",
    "                self.Conv_channel_3,\n",
    "                self.ch_in_3\n",
    "            )\n",
    "        ]+[\n",
    "            Conv(x[:, channel, :, :])\n",
    "            for Conv, channel in zip(\n",
    "                self.Conv_channel_4,\n",
    "                self.ch_in_4\n",
    "            )\n",
    "        ]+[\n",
    "            Conv(x[:, channel, :, :])\n",
    "            for Conv, channel in zip(\n",
    "                self.Conv_channel_6,\n",
    "                self.ch_in_6\n",
    "            )\n",
    "        ])\n",
    "    \n",
    "class LeNet(nn.Module) :\n",
    "    def __init__(self) :\n",
    "        super(LeNet, self).__init__()\n",
    "        #padding=2 makes 28x28 image into 32x32\n",
    "        self.C1_layer = nn.Sequential(\n",
    "                nn.Conv2d(1, 6, kernel_size=5, padding=2),\n",
    "                nn.Tanh()\n",
    "                )\n",
    "        self.P2_layer = nn.Sequential(\n",
    "                nn.AvgPool2d(kernel_size=2, stride=2),\n",
    "                nn.Tanh()\n",
    "                )\n",
    "        self.C3_layer = nn.Sequential(\n",
    "                #C3_layer_full(),\n",
    "                C3_layer(),\n",
    "                nn.Tanh()\n",
    "                )\n",
    "        self.P4_layer = nn.Sequential(\n",
    "                nn.AvgPool2d(kernel_size=2, stride=2),\n",
    "                nn.Tanh()\n",
    "                )\n",
    "        self.C5_layer = nn.Sequential(\n",
    "                nn.Linear(5*5*16, 120),\n",
    "                nn.Tanh()\n",
    "                )\n",
    "        self.F6_layer = nn.Sequential(\n",
    "                nn.Linear(120, 84),\n",
    "                nn.Tanh()\n",
    "                )\n",
    "        self.F7_layer = nn.Linear(84, 10)\n",
    "        self.tanh = nn.Tanh()\n",
    "        \n",
    "    def forward(self, x) :\n",
    "        output = self.C1_layer(x)\n",
    "        output = self.P2_layer(output)\n",
    "        output = self.C3_layer(output)\n",
    "        output = self.P4_layer(output)\n",
    "        output = output.view(-1,5*5*16)\n",
    "        output = self.C5_layer(output)\n",
    "        output = self.F6_layer(output)\n",
    "        output = self.F7_layer(output)\n",
    "        return output"
   ]
  },
  {
   "cell_type": "code",
   "execution_count": 25,
   "metadata": {},
   "outputs": [
    {
     "name": "stdout",
     "output_type": "stream",
     "text": [
      "Total number of trainable parameters: 60806\n"
     ]
    }
   ],
   "source": [
    "model = LeNet().to(device)\n",
    "loss_function = torch.nn.CrossEntropyLoss()\n",
    "optimizer = torch.optim.SGD(model.parameters(), lr=1e-1)\n",
    "\n",
    "# print total number of trainable parameters\n",
    "param_ct = sum([p.numel() for p in model.parameters()])\n",
    "print(f\"Total number of trainable parameters: {param_ct}\")\n"
   ]
  },
  {
   "cell_type": "markdown",
   "metadata": {},
   "source": [
    "$((6\\cdot5\\cdot5)+1)\n",
    "+\\{((3\\cdot5\\cdot5)+1)\\cdot6+((4\\cdot5\\cdot5)+1)\\cdot9+ \n",
    "((6\\cdot5\\cdot5)+1)\\}+(120\\cdot400+120)+(84\\cdot120+84)+(10\\cdot84+10)=60806 $"
   ]
  },
  {
   "cell_type": "code",
   "execution_count": 26,
   "metadata": {},
   "outputs": [
    {
     "name": "stdout",
     "output_type": "stream",
     "text": [
      "0th epoch starting.\n",
      "1th epoch starting.\n",
      "2th epoch starting.\n",
      "3th epoch starting.\n",
      "4th epoch starting.\n",
      "5th epoch starting.\n",
      "6th epoch starting.\n",
      "7th epoch starting.\n",
      "8th epoch starting.\n",
      "9th epoch starting.\n",
      "Time ellapsed in training is: 195.4492208957672\n"
     ]
    }
   ],
   "source": [
    "train_loader = torch.utils.data.DataLoader(dataset=train_dataset, batch_size=100, shuffle=True)\n",
    "\n",
    "import time\n",
    "start = time.time()\n",
    "for epoch in range(10) :\n",
    "    print(\"{}th epoch starting.\".format(epoch))\n",
    "    for images, labels in train_loader :\n",
    "        images, labels = images.to(device), labels.to(device)\n",
    "        \n",
    "        optimizer.zero_grad()\n",
    "        train_loss = loss_function(model(images), labels)\n",
    "        train_loss.backward()\n",
    "\n",
    "        optimizer.step()\n",
    "end = time.time()\n",
    "print(\"Time ellapsed in training is: {}\".format(end - start))\n"
   ]
  },
  {
   "cell_type": "code",
   "execution_count": 27,
   "metadata": {},
   "outputs": [
    {
     "name": "stdout",
     "output_type": "stream",
     "text": [
      "[Test set] Average loss: 0.0229, Accuracy: 1313/10000 (13.13%)\n",
      "\n"
     ]
    }
   ],
   "source": [
    "test_loss, correct, total = 0, 0, 0\n",
    "\n",
    "test_loader = torch.utils.data.DataLoader(dataset=test_dataset, batch_size=100, shuffle=False)\n",
    "\n",
    "for images, labels in test_loader :\n",
    "    images, labels = images.to(device), labels.to(device)\n",
    "\n",
    "    output = model(images)\n",
    "    test_loss += loss_function(output, labels).item()\n",
    "\n",
    "    pred = output.max(1, keepdim=True)[1]\n",
    "    correct += pred.eq(labels.view_as(pred)).sum().item()\n",
    "    \n",
    "    total += labels.size(0)\n",
    "            \n",
    "print('[Test set] Average loss: {:.4f}, Accuracy: {}/{} ({:.2f}%)\\n'.format(\n",
    "        test_loss /total, correct, total,\n",
    "        100. * correct / total))\n"
   ]
  },
  {
   "cell_type": "code",
   "execution_count": null,
   "metadata": {},
   "outputs": [],
   "source": []
  }
 ],
 "metadata": {
  "kernelspec": {
   "display_name": "Python 3",
   "language": "python",
   "name": "python3"
  },
  "language_info": {
   "codemirror_mode": {
    "name": "ipython",
    "version": 3
   },
   "file_extension": ".py",
   "mimetype": "text/x-python",
   "name": "python",
   "nbconvert_exporter": "python",
   "pygments_lexer": "ipython3",
   "version": "3.10.13"
  }
 },
 "nbformat": 4,
 "nbformat_minor": 2
}
