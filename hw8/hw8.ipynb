{
 "cells": [
  {
   "cell_type": "markdown",
   "metadata": {},
   "source": [
    "# Problem 1"
   ]
  },
  {
   "cell_type": "markdown",
   "metadata": {},
   "source": [
    "![](https://cdn.discordapp.com/attachments/947918193924636695/1236926076106702938/Screenshot_20240506_152109.jpg?ex=6639c8ad&is=6638772d&hm=a640923071992a8a299b2e416c4f8cbfd2075f86eb7ec11a99ac755192edb50e&)"
   ]
  },
  {
   "cell_type": "markdown",
   "metadata": {},
   "source": [
    "# Problem 2"
   ]
  },
  {
   "cell_type": "code",
   "execution_count": 55,
   "metadata": {},
   "outputs": [],
   "source": [
    "from torch import nn\n",
    "import torch\n",
    "r = 3\n",
    "input = torch.tensor([[[[1., 2.], [3., 4.]]]])"
   ]
  },
  {
   "cell_type": "code",
   "execution_count": 56,
   "metadata": {},
   "outputs": [
    {
     "name": "stdout",
     "output_type": "stream",
     "text": [
      "tensor([[[[1., 1., 1., 2., 2., 2.],\n",
      "          [1., 1., 1., 2., 2., 2.],\n",
      "          [1., 1., 1., 2., 2., 2.],\n",
      "          [3., 3., 3., 4., 4., 4.],\n",
      "          [3., 3., 3., 4., 4., 4.],\n",
      "          [3., 3., 3., 4., 4., 4.]]]])\n"
     ]
    }
   ],
   "source": [
    "layer = nn.Upsample(scale_factor=r, mode='nearest')\n",
    "\n",
    "output = layer(input)\n",
    "print(output)"
   ]
  },
  {
   "cell_type": "code",
   "execution_count": 57,
   "metadata": {},
   "outputs": [
    {
     "name": "stdout",
     "output_type": "stream",
     "text": [
      "tensor([[[[1., 1., 1., 2., 2., 2.],\n",
      "          [1., 1., 1., 2., 2., 2.],\n",
      "          [1., 1., 1., 2., 2., 2.],\n",
      "          [3., 3., 3., 4., 4., 4.],\n",
      "          [3., 3., 3., 4., 4., 4.],\n",
      "          [3., 3., 3., 4., 4., 4.]]]], grad_fn=<ConvolutionBackward0>)\n"
     ]
    }
   ],
   "source": [
    "layer = nn.ConvTranspose2d(1, 1, stride=r, kernel_size=1, bias=False)\n",
    "layer.weight.data = torch.ones(1, 1, r, r)\n",
    "\n",
    "output = layer(input)\n",
    "print(output)"
   ]
  },
  {
   "cell_type": "markdown",
   "metadata": {},
   "source": [
    "# Problem 3"
   ]
  },
  {
   "cell_type": "markdown",
   "metadata": {},
   "source": [
    "![](https://cdn.discordapp.com/attachments/947918193924636695/1236926076404629555/Screenshot_20240506_152121.jpg?ex=6639c8ad&is=6638772d&hm=7b4df2ed18b4665a7f659777e2da2a7fc567e439f01fe6eed3ca3dad9d572690&)"
   ]
  },
  {
   "cell_type": "markdown",
   "metadata": {},
   "source": [
    "# Problem 4"
   ]
  },
  {
   "cell_type": "markdown",
   "metadata": {},
   "source": [
    "![](https://cdn.discordapp.com/attachments/947918193924636695/1236926076714876938/Screenshot_20240506_152131.jpg?ex=6639c8ad&is=6638772d&hm=d46f6d1b9cc383594fbc6d007be2f3cc41f2f6ca007b448fcf551a2720693332&)"
   ]
  },
  {
   "cell_type": "markdown",
   "metadata": {},
   "source": [
    "# Problem 5"
   ]
  },
  {
   "cell_type": "markdown",
   "metadata": {},
   "source": [
    "![](https://cdn.discordapp.com/attachments/947918193924636695/1236926077113466900/Screenshot_20240506_152142.jpg?ex=6639c8ad&is=6638772d&hm=35f7b1cb4a65373f572ffba2e49b2c491de6e9dfbccac87144153389ca90867f&)"
   ]
  },
  {
   "cell_type": "markdown",
   "metadata": {},
   "source": [
    "# Problem 6"
   ]
  },
  {
   "cell_type": "markdown",
   "metadata": {},
   "source": [
    "![](https://cdn.discordapp.com/attachments/947918193924636695/1236926077427912754/Screenshot_20240506_152155.jpg?ex=6639c8ad&is=6638772d&hm=b8544b8744e98cd38cfc6dbb86fd6a0ee4db1ff1c18d0a9487bcc1d60070cf33&)"
   ]
  },
  {
   "cell_type": "markdown",
   "metadata": {},
   "source": [
    "# Problem 7"
   ]
  },
  {
   "cell_type": "markdown",
   "metadata": {},
   "source": [
    "![](https://cdn.discordapp.com/attachments/947918193924636695/1236926077797007401/Screenshot_20240506_152203.jpg?ex=6639c8ad&is=6638772d&hm=7ec5c1edda78af27c7f42c340d47c0c07c586d0ef517b5aa5069cb0c6210a867&)"
   ]
  },
  {
   "cell_type": "markdown",
   "metadata": {},
   "source": []
  }
 ],
 "metadata": {
  "kernelspec": {
   "display_name": "Python 3",
   "language": "python",
   "name": "python3"
  },
  "language_info": {
   "codemirror_mode": {
    "name": "ipython",
    "version": 3
   },
   "file_extension": ".py",
   "mimetype": "text/x-python",
   "name": "python",
   "nbconvert_exporter": "python",
   "pygments_lexer": "ipython3",
   "version": "3.10.13"
  }
 },
 "nbformat": 4,
 "nbformat_minor": 2
}
