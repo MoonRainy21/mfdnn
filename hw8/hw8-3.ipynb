{
 "cells": [
  {
   "cell_type": "markdown",
   "metadata": {},
   "source": [
    "# Problem 3"
   ]
  },
  {
   "cell_type": "markdown",
   "metadata": {},
   "source": [
    "## (a)\n",
    "With Jensen's inequality, we have \\\n",
    "$\n",
    "D_f(X||Y) = \\int f(\\frac {p_X(x)} {p_Y(x)}) p_Y(x) dx \\geq f(\\int \\frac {p_X(x)} {p_Y(x)} p_Y(x) dx) = f(1) = 0\n",
    "$"
   ]
  },
  {
   "cell_type": "markdown",
   "metadata": {},
   "source": [
    "## (b)\n",
    "Let $f = - \\log t$, then \\\n",
    "$\n",
    "D_f(X||Y) = \\int - \\log \\frac {p_X(x)} {p_Y(x)} p_Y(x) dx = D_{KL}(X||Y)\n",
    "$ \\\n",
    "Let $f = t \\log t$, then \\\n",
    "$\n",
    "D_f(X||Y) = \\int \\log \\frac {p_X(x)} {p_Y(x)} p_X(x) dx = D_{KL}(X||Y)\n",
    "$"
   ]
  }
 ],
 "metadata": {
  "language_info": {
   "name": "python"
  }
 },
 "nbformat": 4,
 "nbformat_minor": 2
}
