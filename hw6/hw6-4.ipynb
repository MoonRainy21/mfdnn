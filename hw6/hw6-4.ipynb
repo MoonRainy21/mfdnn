{
 "cells": [
  {
   "cell_type": "markdown",
   "metadata": {},
   "source": [
    "# Problem 4"
   ]
  },
  {
   "cell_type": "markdown",
   "metadata": {},
   "source": [
    "![](https://cdn.discordapp.com/attachments/947918193924636695/1236578605828669461/Screenshot_20240505_162143.jpg?ex=66388512&is=66373392&hm=650c0fa7630eab6f1d113fde3b36d1432508f21e52bbc13aa8c5d6bbfa4f673d&)"
   ]
  },
  {
   "cell_type": "markdown",
   "metadata": {},
   "source": [
    "## (b)"
   ]
  },
  {
   "cell_type": "code",
   "execution_count": null,
   "metadata": {},
   "outputs": [],
   "source": [
    "from torch import nn\n",
    "class STMConvLayer(nn.Module):\n",
    "  def __init__(self):\n",
    "    super(STMConvLayer, self).__init__()\n",
    "    self.convs1 = nn.ModuleList()\n",
    "    self.convs2 = nn.ModuleList()\n",
    "    self.convs3 = nn.ModuleList()\n",
    "    for i in range(32):\n",
    "      self.convs1.append(nn.Conv2d(256, 4, 1))\n",
    "      self.convs2.append(nn.Conv2d(4, 4, 3, padding=1))\n",
    "      self.convs3.append(nn.Conv2d(4, 256, 1))\n",
    "    self.relu = nn.ReLU()\n",
    "  \n",
    "  def forward(self, x):\n",
    "    outputs = []\n",
    "    for i in range(32):\n",
    "      out = self.convs1[i](x)\n",
    "      out = self.relu(out)\n",
    "      out = self.convs2[i](out)\n",
    "      out = self.relu(out)\n",
    "      out = self.convs3[i](out)\n",
    "      outputs.append(out)\n",
    "    out = sum(outputs)\n",
    "    return out"
   ]
  },
  {
   "cell_type": "code",
   "execution_count": null,
   "metadata": {},
   "outputs": [],
   "source": [
    "import torch\n",
    "class MyConvLayer(nn.Module):\n",
    "  def __init__(self):\n",
    "    super(MyConvLayer , self). __init__ ()\n",
    "    self.conv1 = nn.Conv2d (256, 128, 1,)\n",
    "    self.conv2 = nn.Conv2d (128, 128, 3, padding =1)\n",
    "    self.conv3 = nn.Conv2d (128, 256, 1)\n",
    "  def forward(self , x):\n",
    "    out = torch.nn.functional.relu(self.conv1(x))\n",
    "    out = torch.nn.functional.relu(self.conv2(out))\n",
    "    out = torch.nn.functional.relu(self.conv3(out))\n",
    "    return out\n",
    "\n"
   ]
  },
  {
   "cell_type": "code",
   "execution_count": null,
   "metadata": {},
   "outputs": [
    {
     "name": "stdout",
     "output_type": "stream",
     "text": [
      "213504\n"
     ]
    }
   ],
   "source": [
    "model = MyConvLayer()\n",
    "num_params = sum(p.numel() for p in model.parameters())\n",
    "print(num_params)"
   ]
  },
  {
   "cell_type": "code",
   "execution_count": null,
   "metadata": {},
   "outputs": [
    {
     "name": "stdout",
     "output_type": "stream",
     "text": [
      "78592\n"
     ]
    }
   ],
   "source": [
    "model = STMConvLayer()\n",
    "num_params = sum(p.numel() for p in model.parameters())\n",
    "print(num_params)"
   ]
  }
 ],
 "metadata": {
  "language_info": {
   "name": "python"
  }
 },
 "nbformat": 4,
 "nbformat_minor": 2
}
